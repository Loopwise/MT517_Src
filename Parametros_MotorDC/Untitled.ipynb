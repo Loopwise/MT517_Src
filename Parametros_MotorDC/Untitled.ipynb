{
 "cells": [
  {
   "cell_type": "code",
   "execution_count": 7,
   "id": "a37934be-df67-4557-b761-5df922625f1c",
   "metadata": {},
   "outputs": [],
   "source": [
    "from sklearn.linear_model import LinearRegression\n",
    "import pandas as pd\n",
    "import matplotlib.pyplot as plt\n",
    "import numpy as np"
   ]
  },
  {
   "cell_type": "code",
   "execution_count": 8,
   "id": "7ae1a18d-0f22-4728-89e4-4f47df050b4f",
   "metadata": {},
   "outputs": [
    {
     "data": {
      "text/html": [
       "<div>\n",
       "<style scoped>\n",
       "    .dataframe tbody tr th:only-of-type {\n",
       "        vertical-align: middle;\n",
       "    }\n",
       "\n",
       "    .dataframe tbody tr th {\n",
       "        vertical-align: top;\n",
       "    }\n",
       "\n",
       "    .dataframe thead th {\n",
       "        text-align: right;\n",
       "    }\n",
       "</style>\n",
       "<table border=\"1\" class=\"dataframe\">\n",
       "  <thead>\n",
       "    <tr style=\"text-align: right;\">\n",
       "      <th></th>\n",
       "      <th>Voltaje</th>\n",
       "      <th>Corriente (mA)</th>\n",
       "      <th>w</th>\n",
       "      <th>Ra</th>\n",
       "      <th>Kb</th>\n",
       "      <th>Kt*i</th>\n",
       "      <th>B</th>\n",
       "    </tr>\n",
       "  </thead>\n",
       "  <tbody>\n",
       "    <tr>\n",
       "      <th>0</th>\n",
       "      <td>3.25</td>\n",
       "      <td>80.9</td>\n",
       "      <td>2.78</td>\n",
       "      <td>8.3</td>\n",
       "      <td>0.927529</td>\n",
       "      <td>0.075037</td>\n",
       "      <td>0.026992</td>\n",
       "    </tr>\n",
       "    <tr>\n",
       "      <th>1</th>\n",
       "      <td>4.09</td>\n",
       "      <td>76.5</td>\n",
       "      <td>3.43</td>\n",
       "      <td>8.3</td>\n",
       "      <td>1.007303</td>\n",
       "      <td>0.077059</td>\n",
       "      <td>0.022466</td>\n",
       "    </tr>\n",
       "    <tr>\n",
       "      <th>2</th>\n",
       "      <td>4.50</td>\n",
       "      <td>87.6</td>\n",
       "      <td>3.93</td>\n",
       "      <td>8.3</td>\n",
       "      <td>0.960031</td>\n",
       "      <td>0.084099</td>\n",
       "      <td>0.021399</td>\n",
       "    </tr>\n",
       "    <tr>\n",
       "      <th>3</th>\n",
       "      <td>5.22</td>\n",
       "      <td>80.9</td>\n",
       "      <td>4.36</td>\n",
       "      <td>8.3</td>\n",
       "      <td>1.043241</td>\n",
       "      <td>0.084398</td>\n",
       "      <td>0.019357</td>\n",
       "    </tr>\n",
       "    <tr>\n",
       "      <th>4</th>\n",
       "      <td>5.82</td>\n",
       "      <td>84.3</td>\n",
       "      <td>4.78</td>\n",
       "      <td>8.3</td>\n",
       "      <td>1.071195</td>\n",
       "      <td>0.090302</td>\n",
       "      <td>0.018892</td>\n",
       "    </tr>\n",
       "  </tbody>\n",
       "</table>\n",
       "</div>"
      ],
      "text/plain": [
       "   Voltaje  Corriente (mA)     w   Ra        Kb      Kt*i         B\n",
       "0     3.25            80.9  2.78  8.3  0.927529  0.075037  0.026992\n",
       "1     4.09            76.5  3.43  8.3  1.007303  0.077059  0.022466\n",
       "2     4.50            87.6  3.93  8.3  0.960031  0.084099  0.021399\n",
       "3     5.22            80.9  4.36  8.3  1.043241  0.084398  0.019357\n",
       "4     5.82            84.3  4.78  8.3  1.071195  0.090302  0.018892"
      ]
     },
     "execution_count": 8,
     "metadata": {},
     "output_type": "execute_result"
    }
   ],
   "source": [
    "df = pd.read_excel('Calibración Motor.xlsx')\n",
    "df.head()"
   ]
  },
  {
   "cell_type": "code",
   "execution_count": 22,
   "id": "af0e449b-6822-49e2-9e40-a12ec95bbf44",
   "metadata": {},
   "outputs": [],
   "source": [
    "modelo = LinearRegression()\n",
    "X = np.array(df['Voltaje']).reshape(-1, 1)\n",
    "Y = np.array(df['Corriente (mA)'])\n",
    "\n",
    "modelo.fit(X, Y)\n",
    "\n",
    "# Una vez ha sido entrenado, se puede calcular el resultado\n",
    "# para una nueva entrada\n",
    "Y_prediccion = modelo.predict(X)"
   ]
  },
  {
   "cell_type": "code",
   "execution_count": 23,
   "id": "17976188-eade-4cb4-a0ac-f4cb302dde2e",
   "metadata": {},
   "outputs": [
    {
     "data": {
      "image/png": "[encoded data removed]",
      "text/plain": [
       "<Figure size 432x288 with 1 Axes>"
      ]
     },
     "metadata": {
      "needs_background": "light"
     },
     "output_type": "display_data"
    },
    {
     "data": {
      "text/plain": [
       "<Figure size 432x288 with 0 Axes>"
      ]
     },
     "metadata": {},
     "output_type": "display_data"
    }
   ],
   "source": [
    "plt.title('Corriente vs Voltaje')\n",
    "plt.xlabel('Voltaje')\n",
    "plt.plot(X, Y, 'o', label = 'Data')\n",
    "plt.plot(X, Y_prediccion, label = 'Arreglo')\n",
    "plt.legend()\n",
    "plt.show()\n",
    "plt.savefig(\"Corriente vs Voltaje.jpg\", bbox_inches='tight')"
   ]
  },
  {
   "cell_type": "code",
   "execution_count": 24,
   "id": "56873898-0d19-415d-bfc0-39f7229e51ca",
   "metadata": {},
   "outputs": [
    {
     "name": "stdout",
     "output_type": "stream",
     "text": [
      "2.699936249556866\n"
     ]
    }
   ],
   "source": [
    "print(modelo.coef_[0])"
   ]
  },
  {
   "cell_type": "code",
   "execution_count": null,
   "id": "96142095-5202-4fcd-8da8-3620b904d997",
   "metadata": {},
   "outputs": [],
   "source": []
  }
 ],
 "metadata": {
  "kernelspec": {
   "display_name": "Python 3 (ipykernel)",
   "language": "python",
   "name": "python3"
  },
  "language_info": {
   "codemirror_mode": {
    "name": "ipython",
    "version": 3
   },
   "file_extension": ".py",
   "mimetype": "text/x-python",
   "name": "python",
   "nbconvert_exporter": "python",
   "pygments_lexer": "ipython3",
   "version": "3.10.4"
  }
 },
 "nbformat": 4,
 "nbformat_minor": 5
}
